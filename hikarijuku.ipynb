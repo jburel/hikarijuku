{
  "nbformat": 4,
  "nbformat_minor": 0,
  "metadata": {
    "colab": {
      "name": "Untitled1.ipynb",
      "provenance": []
    },
    "kernelspec": {
      "name": "python3",
      "display_name": "Python 3"
    }
  },
  "cells": [
    {
      "cell_type": "code",
      "metadata": {
        "id": "BGK-0aviby9H",
        "colab_type": "code",
        "colab": {
          "base_uri": "https://localhost:8080/",
          "height": 34
        },
        "outputId": "8e04f546-abe6-4d27-ed20-42c132078d45"
      },
      "source": [
        "import sys\n",
        "import numpy as np\n",
        "import pandas as pd\n",
        "import matplotlib.pyplot as plt\n",
        "%matplotlib inline\n",
        "\n",
        "# HTTP library\n",
        "import requests\n",
        "\n",
        "# Stream of in-memory bytes\n",
        "from io import BytesIO\n",
        "# Pillow library\n",
        "from PIL import Image\n",
        "# OpenCV library\n",
        "import cv2\n",
        "\n",
        "from skimage.segmentation import active_contour\n",
        "\n",
        "print (cv2.__version__)\n",
        "# tested Python 2 or 3 + OpenCV v 3.2.0"
      ],
      "execution_count": 56,
      "outputs": [
        {
          "output_type": "stream",
          "text": [
            "3.4.3\n"
          ],
          "name": "stdout"
        }
      ]
    },
    {
      "cell_type": "code",
      "metadata": {
        "id": "eg_bt1Tqb6g-",
        "colab_type": "code",
        "colab": {
          "base_uri": "https://localhost:8080/",
          "height": 51
        },
        "outputId": "76bc3875-e054-4518-809c-7df1aa4a087e"
      },
      "source": [
        "SSBD_BASE_URL = \"http://ssbd.qbic.riken.jp/image\"\n",
        "\n",
        "url = SSBD_BASE_URL\n",
        "if requests.session().get(url).status_code == 200:\n",
        "    print(\"Successfully connected to SSBD\")\n",
        "else:\n",
        "    print(\"Failed to connect to SSBD\")\n",
        "print(url)"
      ],
      "execution_count": 57,
      "outputs": [
        {
          "output_type": "stream",
          "text": [
            "Successfully connected to SSBD\n",
            "http://ssbd.qbic.riken.jp/image\n"
          ],
          "name": "stdout"
        }
      ]
    },
    {
      "cell_type": "code",
      "metadata": {
        "id": "egKQsKrhb-5j",
        "colab_type": "code",
        "colab": {
          "base_uri": "https://localhost:8080/",
          "height": 285
        },
        "outputId": "830a6862-42ba-4060-d0e4-acb66880dce4"
      },
      "source": [
        "# Aoki-san's image T=0\n",
        "IMAGE_ID = 33724\n",
        "Z = 0\n",
        "T = 0\n",
        "\n",
        "TMP_URL = \"{base}/webgateway/render_image/{image_id}/{z}/{t}\"\n",
        "qs = {'base': SSBD_BASE_URL, 'image_id': IMAGE_ID, 'z': Z, 't': T}\n",
        "\n",
        "url = TMP_URL.format(**qs)\n",
        "\n",
        "r = requests.session().get(url)\n",
        "if r.status_code != 200:\n",
        "    print(\"access error (1)\")\n",
        "    sys.exit()\n",
        "\n",
        "# PIL (RGB) -> OpenCV (Grayscale)\n",
        "cv_img1 = cv2.cvtColor(np.array(Image.open(BytesIO(r.content))), cv2.COLOR_RGB2GRAY)\n",
        "plt.imshow(cv_img1, 'gray')\n",
        "\n",
        "print(url)"
      ],
      "execution_count": 58,
      "outputs": [
        {
          "output_type": "stream",
          "text": [
            "http://ssbd.qbic.riken.jp/image/webgateway/render_image/33724/0/0\n"
          ],
          "name": "stdout"
        },
        {
          "output_type": "display_data",
          "data": {
            "image/png": "[encoded data removed]",
            "text/plain": [
              "<Figure size 432x288 with 1 Axes>"
            ]
          },
          "metadata": {
            "tags": []
          }
        }
      ]
    },
    {
      "cell_type": "code",
      "metadata": {
        "id": "4G5ALgsGcPoW",
        "colab_type": "code",
        "colab": {
          "base_uri": "https://localhost:8080/",
          "height": 285
        },
        "outputId": "c4b6f423-0756-4e34-d64e-d8417502e64b"
      },
      "source": [
        "# Aoki-san's image T=150\n",
        "IMAGE_ID = 33724\n",
        "Z = 0\n",
        "T = 150\n",
        "\n",
        "TMP_URL = \"{base}/webgateway/render_image/{image_id}/{z}/{t}\"\n",
        "qs = {'base': SSBD_BASE_URL, 'image_id': IMAGE_ID, 'z': Z, 't': T}\n",
        "\n",
        "url = TMP_URL.format(**qs)\n",
        "\n",
        "r = requests.session().get(url)\n",
        "if r.status_code != 200:\n",
        "    print(\"access error (1)\")\n",
        "    sys.exit()\n",
        "\n",
        "# PIL (RGB) -> OpenCV (Grayscale)\n",
        "cv_img1 = cv2.cvtColor(np.array(Image.open(BytesIO(r.content))), cv2.COLOR_RGB2GRAY)\n",
        "plt.imshow(cv_img1, 'gray')\n",
        "\n",
        "print(url)"
      ],
      "execution_count": 59,
      "outputs": [
        {
          "output_type": "stream",
          "text": [
            "http://ssbd.qbic.riken.jp/image/webgateway/render_image/33724/0/150\n"
          ],
          "name": "stdout"
        },
        {
          "output_type": "display_data",
          "data": {
            "image/png": "[encoded data removed]",
            "text/plain": [
              "<Figure size 432x288 with 1 Axes>"
            ]
          },
          "metadata": {
            "tags": []
          }
        }
      ]
    },
    {
      "cell_type": "code",
      "metadata": {
        "id": "rnDxU-uecj-0",
        "colab_type": "code",
        "colab": {
          "base_uri": "https://localhost:8080/",
          "height": 241
        },
        "outputId": "7ea169c1-f137-4f2e-8191-752edb47d305"
      },
      "source": [
        "TMP_URL = \"{base}/webclient/imgData/{image_id}/\"\n",
        "qs = {'base': SSBD_BASE_URL, 'image_id': IMAGE_ID}\n",
        "url = TMP_URL.format(**qs)\n",
        "\n",
        "r = requests.session().get(url)\n",
        "if r.status_code != 200:\n",
        "    print(\"access error\")\n",
        "    sys.exit()\n",
        "\n",
        "metadata = r.json()\n",
        "\n",
        "print (url)\n",
        "print (\"ProjectName:\", metadata['meta']['projectName'])\n",
        "print (\"Dataset:\", metadata['meta']['datasetName'])\n",
        "print (\"X:\", metadata['size']['width'])\n",
        "print (\"Y:\", metadata['size']['height'])\n",
        "print (\"Z:\", metadata['size']['z'])\n",
        "print (\"T:\", metadata['size']['t'])\n",
        "print (\"C:\", metadata['size']['c'])\n",
        "print (\"PixelsType: \", metadata['meta']['pixelsType'])\n",
        "print (\"PixwlRange: \", metadata['pixel_range'][1])\n",
        "\n",
        "print (\"\\n\", metadata)"
      ],
      "execution_count": 60,
      "outputs": [
        {
          "output_type": "stream",
          "text": [
            "http://ssbd.qbic.riken.jp/image/webclient/imgData/33724/\n",
            "ProjectName: 17-Aoki-MolDyn\n",
            "Dataset: sample1\n",
            "X: 100\n",
            "Y: 100\n",
            "Z: 1\n",
            "T: 391\n",
            "C: 1\n",
            "PixelsType:  uint16\n",
            "PixwlRange:  65535\n",
            "\n",
            " {'init_zoom': 0, 'tiles': False, 'perms': {'canAnnotate': False, 'canEdit': False, 'canDelete': False, 'canLink': False}, 'rdefs': {'defaultT': 0, 'model': 'greyscale', 'invertAxis': False, 'projection': 'normal', 'defaultZ': 0}, 'pixel_range': [0, 65535], 'interpolate': True, 'channels': [{'coefficient': 1.0, 'active': True, 'window': {'max': 670.0, 'end': 670.0, 'start': 0.0, 'min': 0.0}, 'family': 'linear', 'color': '808080', 'inverted': False, 'reverseIntensity': False, 'emissionWave': None, 'label': 'CFP'}], 'meta': {'projectName': '17-Aoki-MolDyn', 'imageId': 33724, 'imageAuthor': 'public data', 'imageTimestamp': 1342683835.0, 'pixelsType': 'uint16', 'datasetId': 208, 'projectDescription': 'See details in Aoki et al. (2013) Molecular Cell, 52(4): 529-540', 'datasetName': 'sample1', 'wellSampleId': '', 'projectId': 6, 'imageDescription': 'See details in Aoki et al. (2013) Molecular Cell, 52(4): 529-540', 'wellId': '', 'imageName': 'BG-CFP.stk', 'datasetDescription': 'See details in Aoki et al. (2013) Molecular Cell, 52(4): 529-540'}, 'id': 33724, 'pixel_size': {'y': 1.0, 'x': 1.0, 'z': None}, 'size': {'width': 100, 'c': 1, 'z': 1, 't': 391, 'height': 100}, 'split_channel': {'c': {'width': 206, 'gridy': 1, 'border': 2, 'gridx': 2, 'height': 104}, 'g': {'width': 104, 'gridy': 1, 'border': 2, 'gridx': 1, 'height': 104}}}\n"
          ],
          "name": "stdout"
        }
      ]
    },
    {
      "cell_type": "code",
      "metadata": {
        "id": "rOfK3DHicx8Y",
        "colab_type": "code",
        "colab": {
          "base_uri": "https://localhost:8080/",
          "height": 230
        },
        "outputId": "5532e8eb-98dc-461f-b59e-51ae67e8999d"
      },
      "source": [
        "# Filterd\n",
        "cv_img2 = cv2.GaussianBlur(cv_img1, (3,3), 0)\n",
        "#cv_img2 = cv2.medianBlur(cv_img1, 3)\n",
        "\n",
        "maxPixel = int(metadata['pixel_range'][1])\n",
        "threshold, cv_img3 = cv2.threshold(cv_img2, 0, maxPixel, cv2.THRESH_BINARY | cv2.THRESH_OTSU)\n",
        "print (\"maxPixel\", maxPixel, \"threshold\", threshold)\n",
        "#thresh = 60\n",
        "#ret, cv_img3 = cv2.threshold(cv_img2, thresh, maxPixel, cv2.THRESH_BINARY)\n",
        "\n",
        "titles = ['Input image', \"Gaussian Filtering\", \"Otsu's Binarization\"]\n",
        "images = [cv_img1, cv_img2, cv_img3]\n",
        "\n",
        "plt.figure(figsize=(10,3))\n",
        "for i in range(0, 3):\n",
        "    plt.subplot(1, 3, i+1)\n",
        "    plt.imshow(images[i], 'gray')\n",
        "    plt.title(titles[i])\n",
        "    plt.xticks([]), plt.yticks([])\n",
        "\n",
        "plt.savefig('result1.tiff')"
      ],
      "execution_count": 61,
      "outputs": [
        {
          "output_type": "stream",
          "text": [
            "maxPixel 65535 threshold 47.0\n"
          ],
          "name": "stdout"
        },
        {
          "output_type": "display_data",
          "data": {
            "image/png": "[encoded data removed]",
            "text/plain": [
              "<Figure size 720x216 with 3 Axes>"
            ]
          },
          "metadata": {
            "tags": []
          }
        }
      ]
    },
    {
      "cell_type": "code",
      "metadata": {
        "id": "al0GW0CydWaR",
        "colab_type": "code",
        "colab": {
          "base_uri": "https://localhost:8080/",
          "height": 319
        },
        "outputId": "aaa93551-9a0f-43b5-f57c-1a724dada32e"
      },
      "source": [
        "# Filterd\n",
        "cv_img2 = cv2.GaussianBlur(cv_img1, (3,3), 0)\n",
        "#cv_img2 = cv2.medianBlur(cv_img1, 3)\n",
        "\n",
        "maxPixel = int(metadata['pixel_range'][1])\n",
        "threshold, cv_img3 = cv2.threshold(cv_img2, 0, maxPixel, cv2.THRESH_BINARY | cv2.THRESH_OTSU)\n",
        "print (\"maxPixel\", maxPixel, \"threshold\", threshold)\n",
        "#thresh = 60\n",
        "#ret, cv_img3 = cv2.threshold(cv_img2, thresh, maxPixel, cv2.THRESH_BINARY)\n",
        "\n",
        "retval, labels, stats, centroids = cv2.connectedComponentsWithStats(cv_img3)\n",
        "print(\"number of labels:\", retval)\n",
        "print(labels.shape, labels.dtype)\n",
        "\n",
        "fig, ax = plt.subplots(facecolor=\"w\")\n",
        "ax.imshow(labels)\n",
        "\n",
        "plt.show()"
      ],
      "execution_count": 76,
      "outputs": [
        {
          "output_type": "stream",
          "text": [
            "maxPixel 65535 threshold 47.0\n",
            "number of labels: 11\n",
            "(100, 100) int32\n"
          ],
          "name": "stdout"
        },
        {
          "output_type": "display_data",
          "data": {
            "image/png": "[encoded data removed]",
            "text/plain": [
              "<Figure size 432x288 with 1 Axes>"
            ]
          },
          "metadata": {
            "tags": []
          }
        }
      ]
    },
    {
      "cell_type": "code",
      "metadata": {
        "id": "XT-Yhcrgen0L",
        "colab_type": "code",
        "colab": {
          "base_uri": "https://localhost:8080/",
          "height": 595
        },
        "outputId": "475559f7-f488-4d42-c8ea-7a099bb0d130"
      },
      "source": [
        "print(stats.shape, stats.dtype)\n",
        "for i, row in enumerate(stats):\n",
        "  print(f\"label {i}\")\n",
        "  print(f\"  size: ({row[cv2.CC_STAT_WIDTH]} px, {row[cv2.CC_STAT_HEIGHT]} px)\")\n",
        "  print(f\"  area: {row[cv2.CC_STAT_AREA]}\")"
      ],
      "execution_count": 77,
      "outputs": [
        {
          "output_type": "stream",
          "text": [
            "(11, 5) int32\n",
            "label 0\n",
            "  size: (100 px, 100 px)\n",
            "  area: 9393\n",
            "label 1\n",
            "  size: (10 px, 9 px)\n",
            "  area: 75\n",
            "label 2\n",
            "  size: (10 px, 9 px)\n",
            "  area: 71\n",
            "label 3\n",
            "  size: (9 px, 10 px)\n",
            "  area: 64\n",
            "label 4\n",
            "  size: (8 px, 8 px)\n",
            "  area: 50\n",
            "label 5\n",
            "  size: (8 px, 9 px)\n",
            "  area: 60\n",
            "label 6\n",
            "  size: (8 px, 8 px)\n",
            "  area: 54\n",
            "label 7\n",
            "  size: (9 px, 10 px)\n",
            "  area: 72\n",
            "label 8\n",
            "  size: (8 px, 10 px)\n",
            "  area: 58\n",
            "label 9\n",
            "  size: (10 px, 10 px)\n",
            "  area: 55\n",
            "label 10\n",
            "  size: (10 px, 6 px)\n",
            "  area: 48\n"
          ],
          "name": "stdout"
        }
      ]
    },
    {
      "cell_type": "code",
      "metadata": {
        "id": "USMQcoJ1gbL2",
        "colab_type": "code",
        "colab": {
          "base_uri": "https://localhost:8080/",
          "height": 221
        },
        "outputId": "e8851f05-f2ad-43b7-bd32-0fbda0d7a46a"
      },
      "source": [
        "print(centroids.shape, centroids.dtype)\n",
        "for i, row in enumerate(centroids):\n",
        "    print(f\"label {i} topleft: ({row[0]}, {row[1]})\")"
      ],
      "execution_count": 78,
      "outputs": [
        {
          "output_type": "stream",
          "text": [
            "(11, 2) float64\n",
            "label 0 topleft: (49.88555307143618, 48.744490578090065)\n",
            "label 1 topleft: (27.48, 32.16)\n",
            "label 2 topleft: (58.53521126760563, 34.943661971830984)\n",
            "label 3 topleft: (26.0625, 52.6875)\n",
            "label 4 topleft: (63.36, 53.44)\n",
            "label 5 topleft: (9.683333333333334, 58.166666666666664)\n",
            "label 6 topleft: (48.388888888888886, 61.611111111111114)\n",
            "label 7 topleft: (90.38888888888889, 71.375)\n",
            "label 8 topleft: (3.189655172413793, 82.25862068965517)\n",
            "label 9 topleft: (25.727272727272727, 87.72727272727273)\n",
            "label 10 topleft: (84.79166666666667, 96.95833333333333)\n"
          ],
          "name": "stdout"
        }
      ]
    },
    {
      "cell_type": "code",
      "metadata": {
        "id": "smSQAwZQwF5Q",
        "colab_type": "code",
        "colab": {
          "base_uri": "https://localhost:8080/",
          "height": 204
        },
        "outputId": "9be321f0-4de0-4c45-b9ba-137b14b3b8e8"
      },
      "source": [
        "height, width = cv_img1.shape[:2]\n",
        "total_intensity = np.zeros(retval)\n",
        "\n",
        "for y in range(0, height):\n",
        "  for x in range(0, width):\n",
        "    if labels[y, x] > 0:\n",
        "#      print(f\"intensity {cv_img1[y, x]}\")\n",
        "      total_intensity[labels[y, x]] = total_intensity[labels[y, x]] + cv_img1[y, x]\n",
        "\n",
        "for i in range(0, retval):\n",
        "  print(f\"label {i+1} total_intensity: {total_intensity[i]}\")"
      ],
      "execution_count": 91,
      "outputs": [
        {
          "output_type": "stream",
          "text": [
            "label 1 total_intensity: 0.0\n",
            "label 2 total_intensity: 8547.0\n",
            "label 3 total_intensity: 9137.0\n",
            "label 4 total_intensity: 5468.0\n",
            "label 5 total_intensity: 3565.0\n",
            "label 6 total_intensity: 6058.0\n",
            "label 7 total_intensity: 3895.0\n",
            "label 8 total_intensity: 6063.0\n",
            "label 9 total_intensity: 5194.0\n",
            "label 10 total_intensity: 3144.0\n",
            "label 11 total_intensity: 4845.0\n"
          ],
          "name": "stdout"
        }
      ]
    },
    {
      "cell_type": "code",
      "metadata": {
        "id": "Gf7D0AHle9eq",
        "colab_type": "code",
        "colab": {}
      },
      "source": [
        ""
      ],
      "execution_count": 0,
      "outputs": []
    }
  ]
}